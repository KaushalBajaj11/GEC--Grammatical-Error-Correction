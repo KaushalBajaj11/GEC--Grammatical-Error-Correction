{
 "cells": [
  {
   "cell_type": "code",
   "execution_count": 1,
   "metadata": {},
   "outputs": [],
   "source": [
    "import pandas as pd #\n",
    "import numpy as np\n",
    "from tqdm import tqdm\n",
    "import random\n",
    "import re\n",
    "import itertools\n",
    "import seaborn as sns\n",
    "import matplotlib.pyplot as plt\n",
    "import tensorflow as tf\n",
    "from tensorflow.keras.layers import Embedding, LSTM, Dense\n",
    "from tensorflow.keras.models import Model\n",
    "from tensorflow.keras.preprocessing.text import Tokenizer\n",
    "from tensorflow.keras.preprocessing.sequence import pad_sequences\n",
    "import nltk.translate.bleu_score as bleu\n",
    "from nltk.translate.bleu_score import sentence_bleu\n",
    "from nltk.translate.bleu_score import SmoothingFunction \n",
    "smoothie = SmoothingFunction().method4\n",
    "import pickle\n",
    "from tensorflow.keras.callbacks import ReduceLROnPlateau\n",
    "from tensorflow.keras.callbacks import TensorBoard\n",
    "from tensorflow.keras.callbacks import ModelCheckpoint\n",
    "from tensorflow.keras.callbacks import EarlyStopping\n",
    "from keras.utils.vis_utils import plot_model\n",
    "import datetime\n",
    "from sklearn.model_selection import train_test_split\n",
    "from prettytable import PrettyTable \n",
    "import matplotlib.ticker as ticker"
   ]
  },
  {
   "cell_type": "code",
   "execution_count": 2,
   "metadata": {},
   "outputs": [],
   "source": [
    "class Dataset:\n",
    "    def __init__(self, data, token_perturbation, token_correct, max_len):\n",
    "        self.encoder_inps = data['encoder_input'].values\n",
    "        self.decoder_inps = data['decoder_input'].values\n",
    "        self.decoder_outs = data['decoder_output'].values\n",
    "        self.token_correct = token_correct\n",
    "        self.token_perturbation = token_perturbation\n",
    "        self.max_len = max_len\n",
    "\n",
    "    def __getitem__(self, i):\n",
    "        self.encoder_seq = self.token_perturbation.texts_to_sequences([self.encoder_inps[i]]) # need to pass list of values\n",
    "        self.decoder_inp_seq = self.token_correct.texts_to_sequences([self.decoder_inps[i]])\n",
    "        self.decoder_out_seq = self.token_correct.texts_to_sequences([self.decoder_outs[i]])\n",
    "\n",
    "        self.encoder_seq = pad_sequences(self.encoder_seq, maxlen=self.max_len, dtype='int32', padding='post')\n",
    "        self.decoder_inp_seq = pad_sequences(self.decoder_inp_seq, maxlen=self.max_len, dtype='int32', padding='post')\n",
    "        self.decoder_out_seq = pad_sequences(self.decoder_out_seq, maxlen=self.max_len, dtype='int32', padding='post')\n",
    "        return self.encoder_seq, self.decoder_inp_seq, self.decoder_out_seq\n",
    "\n",
    "    def __len__(self): # your model.fit_gen requires this function\n",
    "        return len(self.encoder_inps)"
   ]
  },
  {
   "cell_type": "code",
   "execution_count": 3,
   "metadata": {},
   "outputs": [],
   "source": [
    "class Dataloader(tf.keras.utils.Sequence):\n",
    "    \n",
    "    def __init__(self, dataset, batch_size=1):\n",
    "        self.dataset = dataset\n",
    "        self.batch_size = batch_size\n",
    "        self.indexes = np.arange(len(self.dataset.encoder_inps))\n",
    "\n",
    "\n",
    "    def __getitem__(self, i):\n",
    "        start = i * self.batch_size\n",
    "        stop = (i + 1) * self.batch_size\n",
    "        data = []\n",
    "        for j in range(start, stop):\n",
    "            data.append(self.dataset[j])\n",
    "\n",
    "        batch = [np.squeeze(np.stack(samples, axis=1), axis=0) for samples in zip(*data)]\n",
    "        \n",
    "        # we are creating data like ([encoder_input, decoder_input], decoder_output) these are already converted into seq\n",
    "        \n",
    "        return [batch[0],batch[1]],batch[2]\n",
    "\n",
    "    def __len__(self):  # your model.fit_gen requires this function\n",
    "        return len(self.indexes) // self.batch_size\n",
    "\n",
    "    def on_epoch_end(self):\n",
    "        self.indexes = np.random.permutation(self.indexes)"
   ]
  },
  {
   "cell_type": "code",
   "execution_count": 4,
   "metadata": {},
   "outputs": [],
   "source": [
    "class Encoder(tf.keras.Model):\n",
    "    '''\n",
    "    Encoder model -- That takes a input sequence and returns output sequence\n",
    "    '''\n",
    "    def __init__(self,inp_vocab_size,embedding_size,lstm_size,input_length):\n",
    "        super().__init__()\n",
    "        self.inp_vocab_size = inp_vocab_size\n",
    "        self.embedding_size = embedding_size\n",
    "        self.input_length = input_length\n",
    "        self.lstm_size= lstm_size\n",
    "        #Initialize Embedding layer\n",
    "        #Intialize Encoder LSTM layer\n",
    "        \n",
    "    def build(self, input_shape):\n",
    "        self.embedding = Embedding(input_dim=self.inp_vocab_size, output_dim=self.embedding_size, input_length=self.input_length,\n",
    "                           mask_zero=True, name=\"embedding_layer_encoder\")\n",
    "        self.lstm = LSTM(self.lstm_size, return_state=True, return_sequences=True, name=\"Encoder_LSTM\")\n",
    "        \n",
    "\n",
    "    def call(self,input_sequence,states):\n",
    "        '''\n",
    "          This function takes a sequence input and the initial states of the encoder.\n",
    "          Pass the input_sequence input to the Embedding layer, Pass the embedding layer ouput to encoder_lstm\n",
    "          returns -- encoder_output, last time step's hidden and cell state\n",
    "        '''\n",
    "        input_embedd                           = self.embedding(input_sequence)\n",
    "        self.lstm_output, self.state_h,self.state_c = self.lstm(input_embedd,initial_state=states)\n",
    "        return  self.lstm_output, self.state_h,self.state_c\n",
    "\n",
    "    \n",
    "    def initialize_states(self,batch_size):\n",
    "        '''\n",
    "          Given a batch size it will return intial hidden state and intial cell state.\n",
    "          If batch size is 32- Hidden state is zeros of size [32,lstm_units], cell state zeros is of size [32,lstm_units]\n",
    "        '''\n",
    "        self.state_h=tf.zeros((batch_size,self.lstm_size))\n",
    "        self.state_c=tf.zeros((batch_size,self.lstm_size))\n",
    "        return self.state_h,self.state_c\n",
    "\n",
    "    "
   ]
  },
  {
   "cell_type": "code",
   "execution_count": 5,
   "metadata": {},
   "outputs": [],
   "source": [
    "class Attention(tf.keras.layers.Layer):\n",
    "        #Class the calculates score based on the scoring_function using Bahdanu attention mechanism.\n",
    "    \n",
    "    def __init__(self,scoring_function, att_units):\n",
    "        super().__init__()\n",
    "        self.scoring_function=scoring_function\n",
    "        self.att_units = att_units\n",
    "\n",
    "    # Please go through the reference notebook and research paper to complete the scoring functions\n",
    "\n",
    "        if self.scoring_function=='dot':\n",
    "      # Intialize variables needed for Dot score function here\n",
    "            pass\n",
    "        if scoring_function == 'general':\n",
    "            self.wn=Dense(att_units)\n",
    "          # Intialize variables needed for General score function here\n",
    "        elif scoring_function == 'concat':\n",
    "            self.w1=Dense(att_units)\n",
    "            self.w2=Dense(att_units)\n",
    "            self.V=Dense(1)\n",
    "          # Intialize variables needed for Concat score function here\n",
    "  \n",
    "  \n",
    "    def call(self,decoder_hidden_state,encoder_output):\n",
    "\n",
    "      #Attention mechanism takes two inputs current step -- decoder_hidden_state and all the encoder_outputs.\n",
    "      #* Based on the scoring function we will find the score or similarity between decoder_hidden_state and encoder_output.\n",
    "       # Multiply the score function with your encoder_outputs to get the context vector.\n",
    "        #Function returns context vector and attention weights(softmax - scores)\n",
    "    \n",
    "        if self.scoring_function == 'dot':\n",
    "            query_with_time_axis = tf.expand_dims(decoder_hidden_state,1)         \n",
    "            score=tf.keras.layers.Dot(axes=2)([encoder_output,query_with_time_axis])                               \n",
    "            attention_weights = tf.nn.softmax(score, axis=1)\n",
    "            context_vector = attention_weights * encoder_output\n",
    "            context_vector = tf.reduce_sum(context_vector, axis=1)\n",
    "        \n",
    "        elif self.scoring_function == 'general':\n",
    "            query_with_time_axis = tf.expand_dims(decoder_hidden_state, 1) \n",
    "            w=self.wn(query_with_time_axis)                                          \n",
    "            score=tf.keras.layers.Dot(axes=2)([encoder_output,w])                              \n",
    "            attention_weights = tf.nn.softmax(score, axis=1)\n",
    "            context_vector = attention_weights * encoder_output\n",
    "            context_vector = tf.reduce_sum(context_vector, axis=1)\n",
    "            \n",
    "        elif self.scoring_function == 'concat':\n",
    "            query_with_time_axis = tf.expand_dims(decoder_hidden_state, 1)  \n",
    "            score = self.V(tf.nn.tanh(self.w1(encoder_output) + self.w2(query_with_time_axis)))\n",
    "            attention_weights = tf.nn.softmax(score, axis=1)\n",
    "            context_vector = attention_weights * encoder_output\n",
    "            context_vector = tf.reduce_sum(context_vector, axis=1)\n",
    "\n",
    "        return context_vector, attention_weights\n",
    "\n",
    "    \n",
    "    "
   ]
  },
  {
   "cell_type": "code",
   "execution_count": 6,
   "metadata": {},
   "outputs": [],
   "source": [
    "class One_Step_Decoder(tf.keras.Model):\n",
    "    def __init__(self,tar_vocab_size, embedding_dim, input_length, dec_units ,score_fun ,att_units):\n",
    "        super(One_Step_Decoder, self).__init__()\n",
    "        self.att_units=att_units\n",
    "        self.score_fun = score_fun\n",
    "        self.tar_vocab_size=tar_vocab_size\n",
    "        self.embedding_dim=embedding_dim\n",
    "        self.input_length=input_length\n",
    "        self.dec_units=dec_units\n",
    "        self.att_units = att_units\n",
    "        self.attention=Attention(self.score_fun,self.att_units)\n",
    "  \n",
    "        self.embedding=tf.keras.layers.Embedding(self.tar_vocab_size,output_dim=self.embedding_dim,\n",
    "                    input_length=self.input_length)\n",
    "        self.lstm=LSTM(self.dec_units, return_state=True, return_sequences=True)\n",
    "        self.dense=tf.keras.layers.Dense(self.tar_vocab_size)\n",
    "        \n",
    "\n",
    "\n",
    "    def call(self,input_to_decoder, encoder_output, state_h,state_c):\n",
    "        embed=self.embedding(input_to_decoder)   \n",
    "        context_vec,weights=self.attention(state_h,encoder_output)\n",
    "        result=tf.concat([tf.expand_dims(context_vec, axis=1),embed],axis=-1)\n",
    "        output,h,c=self.lstm(result,initial_state=[state_h,state_c])\n",
    "        out=tf.reshape(output,(-1,output.shape[-1]))\n",
    "    \n",
    "        dense_op=self.dense(out)\n",
    "    \n",
    "        return dense_op,h,c,weights,context_vec\n",
    "        \n",
    "        \n",
    "        \n",
    "        \n",
    "        \n",
    "    '''\n",
    "        One step decoder mechanisim step by step:\n",
    "      A. Pass the input_to_decoder to the embedding layer and then get the output(batch_size,1,embedding_dim)\n",
    "      B. Using the encoder_output and decoder hidden state, compute the context vector.\n",
    "      C. Concat the context vector with the step A output\n",
    "      D. Pass the Step-C output to LSTM/GRU and get the decoder output and states(hidden and cell state)\n",
    "      E. Pass the decoder output to dense layer(vocab size) and store the result into output.\n",
    "      F. Return the states from step D, output from Step E, attention weights from Step -B\n",
    "    '''"
   ]
  },
  {
   "cell_type": "code",
   "execution_count": 24,
   "metadata": {},
   "outputs": [],
   "source": [
    "class Decoder(tf.keras.Model):\n",
    "    def __init__(self,out_vocab_size, embedding_dim, input_length, dec_units ,score_fun ,att_units):\n",
    "        super().__init__()\n",
    "        self.onestep=One_Step_Decoder(out_vocab_size, embedding_dim, input_length, dec_units ,score_fun ,att_units)\n",
    "\n",
    "        \n",
    "    def call(self, input_to_decoder,encoder_output,decoder_hidden_state,decoder_cell_state ):\n",
    "        all_outputs=tf.TensorArray(tf.float32,10,name=\"output_array\")\n",
    "        for step in range(10):\n",
    "            output,decoder_hidden_state,decoder_cell_state,attention_weights,context_vector=self.onestep(input_to_decoder[:,step:step+1],encoder_output,decoder_hidden_state,decoder_cell_state)\n",
    "            all_outputs=all_outputs.write(step,output)\n",
    "        \n",
    "        all_outputs=tf.transpose(all_outputs.stack(),[1,0,2])\n",
    "        \n",
    "        return all_outputs\n",
    "          "
   ]
  },
  {
   "cell_type": "code",
   "execution_count": 8,
   "metadata": {},
   "outputs": [],
   "source": [
    "class encoder_decoder(tf.keras.Model):\n",
    "    def __init__(self, inp_vocab_size, out_vocab_size, embedding_size, lstm_size, \n",
    "                 input_length, output_length, dec_units ,score_fun ,att_units, batch_size):\n",
    "        \n",
    "        super(encoder_decoder, self).__init__()\n",
    "        \n",
    "        self.encoder = Encoder(inp_vocab_size, embedding_size, lstm_size, input_length)\n",
    "        self.decoder = Decoder(out_vocab_size, embedding_size, output_length, \n",
    "                               dec_units, score_fun, att_units)\n",
    "     #Intialize objects from encoder decoder\n",
    "    def call(self, data):\n",
    "        \n",
    "        input_sequence, input_to_decoder = data[0],data[1]\n",
    "        initial_state = self.encoder.initialize_states(64)\n",
    "        encoder_output, state_h, state_c = self.encoder(input_sequence, initial_state)\n",
    "        decoder_hidden_state = state_h\n",
    "        decoder_cell_state = state_c\n",
    "        decoder_output = self.decoder(input_to_decoder, encoder_output, decoder_hidden_state, decoder_cell_state)\n",
    "        \n",
    "        return decoder_output\n",
    "    \n",
    "    #Intialize encoder states, Pass the encoder_sequence to the embedding layer\n",
    "    # Decoder initial states are encoder final states, Initialize it accordingly\n",
    "    # Pass the decoder sequence,encoder_output,decoder states to Decoder\n",
    "    # return the decoder output"
   ]
  },
  {
   "cell_type": "code",
   "execution_count": 9,
   "metadata": {},
   "outputs": [],
   "source": [
    "#https://www.tensorflow.org/tutorials/text/image_captioning#model\n",
    "loss_object = tf.keras.losses.SparseCategoricalCrossentropy(\n",
    "    from_logits=True, reduction='none')\n",
    "\n",
    "\n",
    "def loss_function(real, pred):\n",
    "    \n",
    "    mask = tf.math.logical_not(tf.math.equal(real, 0))\n",
    "    loss_ = loss_object(real, pred)\n",
    "\n",
    "    mask = tf.cast(mask, dtype=loss_.dtype)\n",
    "    loss_ *= mask\n",
    "\n",
    "    return tf.reduce_mean(loss_)\n",
    "optimizer = tf.keras.optimizers.Adam()"
   ]
  },
  {
   "cell_type": "code",
   "execution_count": 10,
   "metadata": {},
   "outputs": [],
   "source": [
    "def predict(input_sentence,token_perturbation,token_correct,model):\n",
    "    \n",
    "    '''\n",
    "      A. Given input sentence, convert the sentence into integers using tokenizer used earlier\n",
    "      B. Pass the input_sequence to encoder. we get encoder_outputs, last time step hidden and cell state\n",
    "      C. Initialize index of <start> as input to decoder. and encoder final states as input_states to onestepdecoder.\n",
    "      D. till we reach max_length of decoder or till the model predicted word <end>:\n",
    "         predictions, input_states, attention_weights = model.layers[1].onestepdecoder(input_to_decoder, encoder_output, input_states)\n",
    "         Save the attention weights\n",
    "         And get the word using the tokenizer(word index) and then store it in a string.\n",
    "      E. Return the predicted sentence\n",
    "      '''\n",
    "    attention_plot = np.zeros((20, 20))\n",
    "    encoder_inp = input_sentence\n",
    "    encoder_seq = token_perturbation.texts_to_sequences([encoder_inp])\n",
    "    encoder_seq = pad_sequences(encoder_seq, maxlen=20, dtype='int32', padding='post')\n",
    "    inputs = tf.convert_to_tensor(encoder_seq)\n",
    "\n",
    "    result = ''\n",
    "    enc_hidden = model.layers[0].initialize_states(1)\n",
    "    encoder_output,state_h,state_c = model.layers[0](inputs,enc_hidden)\n",
    "\n",
    "    dec_input = tf.expand_dims([token_correct.word_index['<start>']], 0)\n",
    "\n",
    "    for t in range(10):\n",
    "        predictions,state_h,state_c,attention_weights,context_vector = model.layers[1].onestep(dec_input,encoder_output,state_h,state_c)\n",
    "\n",
    "        attention_weights = tf.reshape(attention_weights, (-1, ))\n",
    "        attention_plot[t] = attention_weights.numpy()\n",
    "        \n",
    "        predicted_id = tf.argmax(predictions[0]).numpy()\n",
    "        result += token_correct.index_word[predicted_id] + ' '\n",
    "\n",
    "        if token_correct.index_word[predicted_id] == '<end>':\n",
    "            return result,attention_plot\n",
    "\n",
    "        dec_input = tf.expand_dims([predicted_id], 0)\n",
    "\n",
    "    return result,attention_plot"
   ]
  },
  {
   "cell_type": "code",
   "execution_count": 33,
   "metadata": {},
   "outputs": [],
   "source": [
    "def Prediction(Input):\n",
    "    \n",
    "    train = pd.read_csv('Attention_train_final.csv')\n",
    "    validation = pd.read_csv('Attention_Validation_final.csv')\n",
    "    \n",
    "    with open('Attention_concat_final_TP', 'rb') as f:\n",
    "        token_perturbation = pickle.load(f)\n",
    "    with open('Attention_concat_final_TC', 'rb') as f:\n",
    "        token_correct = pickle.load(f)\n",
    "    v_perturbation = len(token_perturbation.word_index.keys()) +1\n",
    "    v_correct=len(token_correct.word_index.keys()) +1\n",
    "    \n",
    "    train_dataset = Dataset(train, token_perturbation, token_correct, 10)\n",
    "    test_dataset  = Dataset(validation, token_perturbation, token_correct, 10)\n",
    "\n",
    "    train_dataloader = Dataloader(train_dataset, batch_size=64)\n",
    "    test_dataloader = Dataloader(test_dataset, batch_size=64)\n",
    "    \n",
    "    input_vocab_size = v_perturbation\n",
    "    output_vocab_size = v_correct\n",
    "\n",
    "    input_len = 10\n",
    "    output_len = 10\n",
    "\n",
    "    lstm_size = 128\n",
    "    att_units = 128\n",
    "    dec_units = 128\n",
    "    embedding_size = 128\n",
    "    embedding_dim = 128\n",
    "    score_fun = 'dot'\n",
    "    batch_size=64\n",
    "\n",
    "    model = encoder_decoder(input_vocab_size,output_vocab_size,embedding_size,lstm_size,input_len,output_len,dec_units,score_fun,att_units, batch_size)\n",
    "    model.build(input_shape = [64,64,128])\n",
    "    model.load_weights('Attention_Dot_3.h5')\n",
    "    \n",
    "    predicted_sentence,attention_plot = predict(Input[0],token_perturbation,token_correct,model)\n",
    "    output_sentence=predicted_sentence.replace('<end>','')\n",
    "    \n",
    "    print(\"The Original Sentence given : {}\".format(Input[0]))\n",
    "    print(\"The Corrected Sentence is : {}\".format(output_sentence))\n",
    "    \n",
    "    return predicted_sentence"
   ]
  },
  {
   "cell_type": "code",
   "execution_count": 34,
   "metadata": {},
   "outputs": [],
   "source": [
    "def Performance_metric(Input):\n",
    "    Predicted = Prediction(Input)\n",
    "    \n",
    "    output_sentence=Input[1].lower()\n",
    "    output_sentence=output_sentence.replace(\".\",\"\")\n",
    "    output_sentence=output_sentence.replace(\"?\",\"\")\n",
    "    output_sentence=output_sentence.replace(\"!\",\"\")\n",
    "    output_sentence=output_sentence.replace(\",\",\"\")\n",
    "    output_sentence=output_sentence.replace('\"','')\n",
    "    output_sentence=output_sentence.replace('-',' ')\n",
    "    \n",
    "    correct = output_sentence.split()\n",
    "    pred = Predicted.split()\n",
    "    \n",
    "    bleu_score = sentence_bleu([correct],pred,smoothing_function=smoothie)\n",
    "    \n",
    "    print(\"The Bleu_score for the correction is {}\".format(bleu_score))"
   ]
  },
  {
   "cell_type": "code",
   "execution_count": 35,
   "metadata": {},
   "outputs": [],
   "source": [
    "test1 = ['They argued that thr earth id round.','They argued that the earth is round. <end>']"
   ]
  },
  {
   "cell_type": "code",
   "execution_count": 36,
   "metadata": {
    "scrolled": false
   },
   "outputs": [
    {
     "name": "stdout",
     "output_type": "stream",
     "text": [
      "The Original Sentence given : They argued that thr earth id round.\n",
      "The Corrected Sentence is : they argued that the earth is round  \n",
      "The Bleu_score for the correction is 1.0\n"
     ]
    }
   ],
   "source": [
    "Performance_metric(test1)"
   ]
  },
  {
   "cell_type": "code",
   "execution_count": 37,
   "metadata": {},
   "outputs": [],
   "source": [
    "test2 = ['She said shi wanted to be s teacher.','She said she wanted to be a teacher. <end>']"
   ]
  },
  {
   "cell_type": "code",
   "execution_count": 38,
   "metadata": {},
   "outputs": [
    {
     "name": "stdout",
     "output_type": "stream",
     "text": [
      "The Original Sentence given : She said shi wanted to be s teacher.\n",
      "The Corrected Sentence is : she said she wanted to be a teacher  \n",
      "The Bleu_score for the correction is 1.0\n"
     ]
    }
   ],
   "source": [
    "Performance_metric(test2)"
   ]
  },
  {
   "cell_type": "code",
   "execution_count": 39,
   "metadata": {},
   "outputs": [],
   "source": [
    "test3 = ['Monday was the busy day for me.','Monday was a busy day for me. <end>']"
   ]
  },
  {
   "cell_type": "code",
   "execution_count": 40,
   "metadata": {},
   "outputs": [
    {
     "name": "stdout",
     "output_type": "stream",
     "text": [
      "The Original Sentence given : Monday was the busy day for me.\n",
      "The Corrected Sentence is : monday was a busy day for me  \n",
      "The Bleu_score for the correction is 1.0\n"
     ]
    }
   ],
   "source": [
    "Performance_metric(test3)"
   ]
  },
  {
   "cell_type": "code",
   "execution_count": 41,
   "metadata": {},
   "outputs": [],
   "source": [
    "test4 = ['Tom wsd acquitted on thr grounds of temporary insanity.','Tom was acquitted on the grounds of temporary insanity. <end>']"
   ]
  },
  {
   "cell_type": "code",
   "execution_count": 42,
   "metadata": {},
   "outputs": [
    {
     "name": "stdout",
     "output_type": "stream",
     "text": [
      "The Original Sentence given : Tom wsd acquitted on thr grounds of temporary insanity.\n",
      "The Corrected Sentence is : tom was acquitted on the grounds of temporary insanity  \n",
      "The Bleu_score for the correction is 1.0\n"
     ]
    }
   ],
   "source": [
    "Performance_metric(test4)"
   ]
  },
  {
   "cell_type": "code",
   "execution_count": 43,
   "metadata": {},
   "outputs": [],
   "source": [
    "test5 = ['There are s lot of fish im thr pond.','There are a lot of fish in the pond. <end>']"
   ]
  },
  {
   "cell_type": "code",
   "execution_count": 44,
   "metadata": {},
   "outputs": [
    {
     "name": "stdout",
     "output_type": "stream",
     "text": [
      "The Original Sentence given : There are s lot of fish im thr pond.\n",
      "The Corrected Sentence is : there are a lot of fish in the pond  \n",
      "The Bleu_score for the correction is 1.0\n"
     ]
    }
   ],
   "source": [
    "Performance_metric(test5)"
   ]
  },
  {
   "cell_type": "markdown",
   "metadata": {},
   "source": [
    "###   Deployment Using Flask API"
   ]
  },
  {
   "attachments": {
    "deployment3.JPG": {
     "image/jpeg": "[encoded data removed]"
    }
   },
   "cell_type": "markdown",
   "metadata": {},
   "source": [
    "![deployment3.JPG](attachment:deployment3.JPG)"
   ]
  },
  {
   "cell_type": "markdown",
   "metadata": {},
   "source": [
    "-  We gave Test5 as Input in the above FLask API deployment in our local system, we were able to achieve the same result as here."
   ]
  },
  {
   "cell_type": "markdown",
   "metadata": {},
   "source": [
    "### Analysis:"
   ]
  },
  {
   "cell_type": "markdown",
   "metadata": {},
   "source": [
    "-  We made 2 functions, **Prediction** and **Performance_Metric** to evalute the Data points.\n",
    "-  We ran this prediction model for 5 randomly selected data points from our dataset.\n",
    "-  For all the Sample Data points we were able to get a **Bleu_score** of **1**, which means that our model was able to perform quite well.\n",
    "-  We were able to deploy the same model using **Flask API** in our **Local System** as well as **AWS**. We have added the screenshot for the **HTML** pages. The recorded video of the same is as follows - \n",
    "https://drive.google.com/file/d/1UqvjbmFlxV-VotwaeLFdn-xbzhQ15ZrR/view?usp=sharing"
   ]
  }
 ],
 "metadata": {
  "kernelspec": {
   "display_name": "Python 3",
   "language": "python",
   "name": "python3"
  },
  "language_info": {
   "codemirror_mode": {
    "name": "ipython",
    "version": 3
   },
   "file_extension": ".py",
   "mimetype": "text/x-python",
   "name": "python",
   "nbconvert_exporter": "python",
   "pygments_lexer": "ipython3",
   "version": "3.7.6"
  }
 },
 "nbformat": 4,
 "nbformat_minor": 4
}
